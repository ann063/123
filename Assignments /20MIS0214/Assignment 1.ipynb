{
 "cells": [
  {
   "cell_type": "code",
   "execution_count": 1,
   "metadata": {},
   "outputs": [
    {
     "name": "stdout",
     "output_type": "stream",
     "text": [
      "Name: MADHUMITHA\n",
      "Age: 20\n"
     ]
    }
   ],
   "source": [
    "name=\"MADHUMITHA\"\n",
    "age=\"20\"\n",
    "\n",
    "print(\"Name:\",name)\n",
    "print(\"Age:\",age)"
   ]
  },
  {
   "cell_type": "code",
   "execution_count": 2,
   "metadata": {},
   "outputs": [
    {
     "name": "stdout",
     "output_type": "stream",
     "text": [
      "['DataScience', 'is', 'used', 'to', 'extract', 'meaningful', 'insights.']\n"
     ]
    }
   ],
   "source": [
    "x=\"DataScience is used to extract meaningful insights.\"\n",
    "split_string=x.split()\n",
    "print(split_string)"
   ]
  },
  {
   "cell_type": "code",
   "execution_count": 4,
   "metadata": {},
   "outputs": [
    {
     "name": "stdout",
     "output_type": "stream",
     "text": [
      "195\n"
     ]
    }
   ],
   "source": [
    "def mul_Num(x,y):\n",
    "    multiply=x*y;\n",
    "    return multiply\n",
    "num1=15\n",
    "num2=13\n",
    "print(mul_Num(num1,num2))"
   ]
  },
  {
   "cell_type": "code",
   "execution_count": 20,
   "metadata": {},
   "outputs": [
    {
     "name": "stdout",
     "output_type": "stream",
     "text": [
      "States:\n",
      "Assam\n",
      "Bihar\n",
      "Rajasthan\n",
      "Manipur\n",
      "Jharkand\n",
      "\n",
      "capitals:\n",
      "Dispur\n",
      "Patna\n",
      "Jaipur\n",
      "Imphal\n",
      "Ranchi\n"
     ]
    }
   ],
   "source": [
    " states_capitals= {\n",
    "    \"Assam\":\"Dispur\",\n",
    "    \"Bihar\":\"Patna\",\n",
    "    \"Rajasthan\":\"Jaipur\",\n",
    "    \"Manipur\":\"Imphal\",\n",
    "    \"Jharkand\":\"Ranchi\"\n",
    " }\n",
    " print(\"States:\")   \n",
    " for state in states_capitals.keys():\n",
    "        print(state)\n",
    "        \n",
    " print(\"\\ncapitals:\")\n",
    " for capital in states_capitals.values():\n",
    "        print(capital)\n"
   ]
  },
  {
   "cell_type": "code",
   "execution_count": 21,
   "metadata": {},
   "outputs": [
    {
     "name": "stdout",
     "output_type": "stream",
     "text": [
      "[1, 2, 3, 4, 5, 6, 7, 8, 9, 10, 11, 12, 13, 14, 15, 16, 17, 18, 19, 20]\n"
     ]
    }
   ],
   "source": [
    "numbers=list(range(1,1001))\n",
    "print(numbers[:20])"
   ]
  },
  {
   "cell_type": "code",
   "execution_count": 23,
   "metadata": {},
   "outputs": [
    {
     "name": "stdout",
     "output_type": "stream",
     "text": [
      "[[1. 0. 0. 0.]\n",
      " [0. 1. 0. 0.]\n",
      " [0. 0. 1. 0.]\n",
      " [0. 0. 0. 1.]]\n"
     ]
    }
   ],
   "source": [
    " import numpy as np\n",
    "\n",
    " identity_matrix=np.eye(4)\n",
    " print(identity_matrix)"
   ]
  },
  {
   "cell_type": "code",
   "execution_count": 24,
   "metadata": {},
   "outputs": [
    {
     "name": "stdout",
     "output_type": "stream",
     "text": [
      "[[1 2 3]\n",
      " [4 5 6]\n",
      " [7 8 9]]\n"
     ]
    }
   ],
   "source": [
    " import numpy as np\n",
    "    \n",
    " matrix=np.arange(1,10).reshape(3,3)\n",
    " print(matrix)"
   ]
  },
  {
   "cell_type": "code",
   "execution_count": null,
   "metadata": {},
   "outputs": [],
   "source": [
    "\n",
    "\n",
    " \n",
    "\n"
   ]
  },
  {
   "cell_type": "code",
   "execution_count": 7,
   "metadata": {},
   "outputs": [
    {
     "name": "stdout",
     "output_type": "stream",
     "text": [
      "[[11 13 15]\n",
      " [17 19 21]\n",
      " [23 25 27]]\n"
     ]
    }
   ],
   "source": [
    "import numpy as np\n",
    "array1 = np.array([[1,2,3],[4,5,6],[7,8,9]])\n",
    "array2 = np.array([[10,11,12],[13,14,15],[16,17,18]])\n",
    "result = array1 + array2\n",
    "print(result)"
   ]
  },
  {
   "cell_type": "code",
   "execution_count": 8,
   "metadata": {},
   "outputs": [
    {
     "name": "stdout",
     "output_type": "stream",
     "text": [
      "     Brand  Sales\n",
      "0   Maruti    250\n",
      "1  Renault    200\n",
      "2  Hyundai    240\n"
     ]
    }
   ],
   "source": [
    "import pandas as pd\n",
    "dictionary ={'Brand':['Maruti','Renault','Hyundai'], 'Sales':[250,200,240]}\n",
    "df=pd.DataFrame(dictionary)\n",
    "print(df)"
   ]
  },
  {
   "cell_type": "code",
   "execution_count": 12,
   "metadata": {},
   "outputs": [
    {
     "name": "stdout",
     "output_type": "stream",
     "text": [
      "2023-02-01\n",
      "2023-02-02\n",
      "2023-02-03\n",
      "2023-02-04\n",
      "2023-02-05\n",
      "2023-02-06\n",
      "2023-02-07\n",
      "2023-02-08\n",
      "2023-02-09\n",
      "2023-02-10\n",
      "2023-02-11\n",
      "2023-02-12\n",
      "2023-02-13\n",
      "2023-02-14\n",
      "2023-02-15\n",
      "2023-02-16\n",
      "2023-02-17\n",
      "2023-02-18\n",
      "2023-02-19\n",
      "2023-02-20\n",
      "2023-02-21\n",
      "2023-02-22\n",
      "2023-02-23\n",
      "2023-02-24\n",
      "2023-02-25\n",
      "2023-02-26\n",
      "2023-02-27\n",
      "2023-02-28\n",
      "2023-03-01\n"
     ]
    }
   ],
   "source": [
    "import numpy as np\n",
    "import datetime\n",
    "start_date = datetime.date(2023,2,1)\n",
    "end_date = datetime.date(2023,3,1)\n",
    "date_range = np.arange(start_date,end_date + datetime.timedelta(days=1),dtype='datetime64[D]')\n",
    "for date in date_range:\n",
    "    print(date)"
   ]
  },
  {
   "cell_type": "code",
   "execution_count": null,
   "metadata": {},
   "outputs": [],
   "source": []
  }
 ],
 "metadata": {
  "kernelspec": {
   "display_name": "Python 3",
   "language": "python",
   "name": "python3"
  },
  "language_info": {
   "codemirror_mode": {
    "name": "ipython",
    "version": 3
   },
   "file_extension": ".py",
   "mimetype": "text/x-python",
   "name": "python",
   "nbconvert_exporter": "python",
   "pygments_lexer": "ipython3",
   "version": "3.8.5"
  }
 },
 "nbformat": 4,
 "nbformat_minor": 4
}
